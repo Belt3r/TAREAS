{
  "nbformat": 4,
  "nbformat_minor": 0,
  "metadata": {
    "colab": {
      "name": "TAREA_GIT.ipynb",
      "provenance": [],
      "collapsed_sections": [],
      "authorship_tag": "ABX9TyNRtbdH8qLnPYGLfxRPRpsw",
      "include_colab_link": true
    },
    "kernelspec": {
      "name": "python3",
      "display_name": "Python 3"
    },
    "language_info": {
      "name": "python"
    }
  },
  "cells": [
    {
      "cell_type": "markdown",
      "metadata": {
        "id": "view-in-github",
        "colab_type": "text"
      },
      "source": [
        "<a href=\"https://colab.research.google.com/github/Belt3r/TAREAS/blob/main/TAREA_GIT.ipynb\" target=\"_parent\"><img src=\"https://colab.research.google.com/assets/colab-badge.svg\" alt=\"Open In Colab\"/></a>"
      ]
    },
    {
      "cell_type": "markdown",
      "source": [
        "## A CONTINUACION SE PRESENTAN VARIOS COMANDOS CON SU DESCRIPCION PARA INICAR A UTILIZAR GIT."
      ],
      "metadata": {
        "id": "GcU-Zz1SxkG3"
      }
    },
    {
      "cell_type": "code",
      "source": [
        "git diff -r HEAD\n",
        "# DESCRIPCION: \n",
        "# -r compara un revision particular y HEAD ve el commit mas reciente"
      ],
      "metadata": {
        "id": "Sgagv5e_xRj-"
      },
      "execution_count": null,
      "outputs": []
    },
    {
      "cell_type": "code",
      "source": [
        "git add \"filename\"\n",
        "# DESCRIPCION: \n",
        "# para agregar un archivo al staging area"
      ],
      "metadata": {
        "id": "WpCoMqJzzUHw"
      },
      "execution_count": null,
      "outputs": []
    },
    {
      "cell_type": "code",
      "source": [
        "nano \"filename\"\n",
        "# DESCRIPCION:\n",
        "# abre el editor de texto con el nombre del documento o lo crea si no existe"
      ],
      "metadata": {
        "id": "6WAU4Vrozesm"
      },
      "execution_count": null,
      "outputs": []
    },
    {
      "cell_type": "code",
      "source": [
        "git status\n",
        "# DESCRIPCION:\n",
        "# aparte de ver el estatus puedo chequear que archivos no estan siendo rastreados, \n",
        "# ya que git NO rastrea archivos por default. aca ya utilizo el comando git add para agregarlo \tal area de ensayo"
      ],
      "metadata": {
        "id": "Z3_SgxYi0JIw"
      },
      "execution_count": null,
      "outputs": []
    },
    {
      "cell_type": "code",
      "source": [
        "git commit -m \"mensaje en comillas\"\n",
        "# DESCRIPCION:\n",
        "# Agregar un mensaje despues de agregar un commit"
      ],
      "metadata": {
        "id": "mPr9lwu_2OKh"
      },
      "execution_count": null,
      "outputs": []
    },
    {
      "cell_type": "code",
      "source": [
        "git commit --amend - m \"nuevo mensaje en comillas\"\n",
        "# DESCRIPCION:\n",
        "# Se utiliza para agregar un nuevo mensaje en caso no haya puesto ningun mensaje al primer commit"
      ],
      "metadata": {
        "id": "KxjcZQn22d1w"
      },
      "execution_count": null,
      "outputs": []
    },
    {
      "cell_type": "code",
      "source": [
        "git log\n",
        "# DESCRIPCION\n",
        "# para ver el LOG de la historia del proyecto"
      ],
      "metadata": {
        "id": "1ianXOWt2nF-"
      },
      "execution_count": null,
      "outputs": []
    },
    {
      "cell_type": "code",
      "source": [
        "git log \"ruta_nombre_archivo\"\n",
        "# DESCRIPCION:\n",
        "# para ver el historial del archivo\n"
      ],
      "metadata": {
        "id": "lV3_KrOf2ukt"
      },
      "execution_count": null,
      "outputs": []
    },
    {
      "cell_type": "code",
      "source": [
        "git log -3 \"nombrearchivo\"\n",
        "# DESCRIPCION: \n",
        "# muestra los ultimo 3 commits que envuel el archivo"
      ],
      "metadata": {
        "id": "8aYFpUZU28o0"
      },
      "execution_count": null,
      "outputs": []
    },
    {
      "cell_type": "code",
      "source": [
        "git commit\n",
        "# DESCRIPCION:\n",
        "# Para colocar un comentario de varias lineas"
      ],
      "metadata": {
        "id": "Wkx2QRVV3M-v"
      },
      "execution_count": null,
      "outputs": []
    },
    {
      "cell_type": "code",
      "source": [
        "git show \"caractereshash\"\n",
        "# DESCRIPCION:\n",
        "# puedo ver un commit en especifico"
      ],
      "metadata": {
        "id": "LTi3nAo-3Yu-"
      },
      "execution_count": null,
      "outputs": []
    },
    {
      "cell_type": "code",
      "source": [
        "git show HEAD~1 \n",
        "# DESCRIPCION:\n",
        "# o HEAD~2, para ver commit anteriores al mas reciente."
      ],
      "metadata": {
        "id": "DkAkyKoI3lA4"
      },
      "execution_count": null,
      "outputs": []
    },
    {
      "cell_type": "code",
      "source": [
        "git annotate \"filename\"\n",
        "# DESCRIPCION:\n",
        "# muestra quien hizo el ultimo cambio a cada línea o archivo y cuando lo hizo"
      ],
      "metadata": {
        "id": "8IUwKbLX34UQ"
      },
      "execution_count": null,
      "outputs": []
    },
    {
      "cell_type": "code",
      "source": [
        "git diff \"ID1..ID2\"\n",
        "# DESCRIPCION:\n",
        "# Sin commillas, para ver el cambio en 2 commit, debemos colocar los dos puntos \n",
        "# pudiera colocar dos ID para ver la diferencia entre ellos. \n",
        "# Recordar que el ID son los primeros dígitos del HASH"
      ],
      "metadata": {
        "id": "ccCVl_pJ4D_o"
      },
      "execution_count": null,
      "outputs": []
    },
    {
      "cell_type": "code",
      "source": [
        "git diff \"HEAD~1..HEAD~3\"\n",
        "# DESCRIPCION:\n",
        "# sin comillas, muestra la diferencia entre repositorio con 1 Commit anterior\n",
        "# y el repositorio 3 commits antes"
      ],
      "metadata": {
        "id": "G5a2LXBT4cEP"
      },
      "execution_count": null,
      "outputs": []
    },
    {
      "cell_type": "code",
      "source": [
        "git clean -n\n",
        "# DESCRIPCION:\n",
        "# me muestra una lista de archivos que estan en mi repositorios, \n",
        "# pero GIT no está actualmente dándole seguimiento, \n",
        "# este comando solo funciona con archivos a los que estan con seguimiento, \n",
        "# por definición su historial no ha sido guardado."
      ],
      "metadata": {
        "id": "hpomzapx4sSh"
      },
      "execution_count": null,
      "outputs": []
    },
    {
      "cell_type": "code",
      "source": [
        "git clean -f\n",
        "# DESCRIPCION:\n",
        "# borra los archivos para siempre"
      ],
      "metadata": {
        "id": "DlQqehGq5kIG"
      },
      "execution_count": null,
      "outputs": []
    },
    {
      "cell_type": "code",
      "source": [
        "git config --list\n",
        "# DESCRIPCION:\n",
        "# como ver como esta configurado GIT, lo puedo usar con uno de las siguientes\n",
        "# opciones --system o --global o --local. \n",
        "# local settins (por proyecto)toma precedencia sobre global settins(por usuario),\n",
        "# que a su vez toma prioridad sobre el system settings"
      ],
      "metadata": {
        "id": "zT8uYXoK5q6b"
      },
      "execution_count": null,
      "outputs": []
    },
    {
      "cell_type": "code",
      "source": [
        ""
      ],
      "metadata": {
        "id": "sQ6LYUE46Wuj"
      },
      "execution_count": null,
      "outputs": []
    }
  ]
}