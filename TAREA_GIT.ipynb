{
  "nbformat": 4,
  "nbformat_minor": 0,
  "metadata": {
    "colab": {
      "name": "TAREA_GIT.ipynb",
      "provenance": [],
      "collapsed_sections": [],
      "authorship_tag": "ABX9TyMnqOce9MqgbAZx5x2kRGtk",
      "include_colab_link": true
    },
    "kernelspec": {
      "name": "python3",
      "display_name": "Python 3"
    },
    "language_info": {
      "name": "python"
    }
  },
  "cells": [
    {
      "cell_type": "markdown",
      "metadata": {
        "id": "view-in-github",
        "colab_type": "text"
      },
      "source": [
        "<a href=\"https://colab.research.google.com/github/Belt3r/TAREAS/blob/main/TAREA_GIT.ipynb\" target=\"_parent\"><img src=\"https://colab.research.google.com/assets/colab-badge.svg\" alt=\"Open In Colab\"/></a>"
      ]
    },
    {
      "cell_type": "markdown",
      "source": [
        "## ACONTINUACION SE PRESENTAN VARIOS COMANDOS CON SU DESCRIPCION PARA INICAR A UTILIZAR GIT."
      ],
      "metadata": {
        "id": "GcU-Zz1SxkG3"
      }
    },
    {
      "cell_type": "code",
      "source": [
        "git diff -r HEAD\n",
        "#DESCRIPCION: -r compara un revision particular y HEAD ve el commit mas reciente"
      ],
      "metadata": {
        "id": "Sgagv5e_xRj-"
      },
      "execution_count": null,
      "outputs": []
    }
  ]
}