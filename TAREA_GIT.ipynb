{
  "nbformat": 4,
  "nbformat_minor": 0,
  "metadata": {
    "colab": {
      "name": "TAREA_GIT.ipynb",
      "provenance": [],
      "collapsed_sections": [],
      "authorship_tag": "ABX9TyNZMKksRKxPXSQWE9LCaDty",
      "include_colab_link": true
    },
    "kernelspec": {
      "name": "python3",
      "display_name": "Python 3"
    },
    "language_info": {
      "name": "python"
    }
  },
  "cells": [
    {
      "cell_type": "markdown",
      "metadata": {
        "id": "view-in-github",
        "colab_type": "text"
      },
      "source": [
        "<a href=\"https://colab.research.google.com/github/Belt3r/TAREAS/blob/main/TAREA_GIT.ipynb\" target=\"_parent\"><img src=\"https://colab.research.google.com/assets/colab-badge.svg\" alt=\"Open In Colab\"/></a>"
      ]
    },
    {
      "cell_type": "markdown",
      "source": [
        "# A CONTINUACION SE PRESENTAN VARIOS COMANDOS CON SU DESCRIPCION PARA INICAR A UTILIZAR GIT."
      ],
      "metadata": {
        "id": "GcU-Zz1SxkG3"
      }
    },
    {
      "cell_type": "code",
      "source": [
        "git diff -r HEAD\n",
        "# DESCRIPCION: \n",
        "# -r compara un revision particular y HEAD ve el commit mas reciente"
      ],
      "metadata": {
        "id": "Sgagv5e_xRj-"
      },
      "execution_count": null,
      "outputs": []
    },
    {
      "cell_type": "code",
      "source": [
        "git add \"filename\"\n",
        "# DESCRIPCION: \n",
        "# para agregar un archivo al staging area"
      ],
      "metadata": {
        "id": "WpCoMqJzzUHw"
      },
      "execution_count": null,
      "outputs": []
    },
    {
      "cell_type": "code",
      "source": [
        "git add \"path/to/file\"\n",
        "# DESCRIPCION:\n",
        "# sin comillas, sintaxis para guardar un archivo especifico"
      ],
      "metadata": {
        "id": "51cI90v5_vQT"
      },
      "execution_count": null,
      "outputs": []
    },
    {
      "cell_type": "code",
      "source": [
        "nano \"filename\"\n",
        "# DESCRIPCION:\n",
        "# abre el editor de texto con el nombre del documento o lo crea si no existe"
      ],
      "metadata": {
        "id": "6WAU4Vrozesm"
      },
      "execution_count": null,
      "outputs": []
    },
    {
      "cell_type": "code",
      "source": [
        "git status\n",
        "# DESCRIPCION:\n",
        "# aparte de ver el estatus puedo chequear que archivos no estan siendo rastreados, \n",
        "# ya que git NO rastrea archivos por default. aca ya utilizo el comando git add para agregarlo \tal area de ensayo"
      ],
      "metadata": {
        "id": "Z3_SgxYi0JIw"
      },
      "execution_count": null,
      "outputs": []
    },
    {
      "cell_type": "code",
      "source": [
        "git commit -m \"mensaje en comillas\"\n",
        "# DESCRIPCION:\n",
        "# Agregar un mensaje despues de agregar un commit"
      ],
      "metadata": {
        "id": "mPr9lwu_2OKh"
      },
      "execution_count": null,
      "outputs": []
    },
    {
      "cell_type": "code",
      "source": [
        "git commit --amend - m \"nuevo mensaje en comillas\"\n",
        "# DESCRIPCION:\n",
        "# Se utiliza para agregar un nuevo mensaje en caso no haya puesto ningun mensaje al primer commit"
      ],
      "metadata": {
        "id": "KxjcZQn22d1w"
      },
      "execution_count": null,
      "outputs": []
    },
    {
      "cell_type": "code",
      "source": [
        "git log\n",
        "# DESCRIPCION\n",
        "# para ver el LOG de la historia del proyecto"
      ],
      "metadata": {
        "id": "1ianXOWt2nF-"
      },
      "execution_count": null,
      "outputs": []
    },
    {
      "cell_type": "code",
      "source": [
        "git log \"ruta_nombre_archivo\"\n",
        "# DESCRIPCION:\n",
        "# para ver el historial del archivo\n"
      ],
      "metadata": {
        "id": "lV3_KrOf2ukt"
      },
      "execution_count": null,
      "outputs": []
    },
    {
      "cell_type": "code",
      "source": [
        "git log -3 \"nombrearchivo\"\n",
        "# DESCRIPCION: \n",
        "# muestra los ultimo 3 commits que envuel el archivo"
      ],
      "metadata": {
        "id": "8aYFpUZU28o0"
      },
      "execution_count": null,
      "outputs": []
    },
    {
      "cell_type": "code",
      "source": [
        "git commit\n",
        "# DESCRIPCION:\n",
        "# Para colocar un comentario de varias lineas"
      ],
      "metadata": {
        "id": "Wkx2QRVV3M-v"
      },
      "execution_count": null,
      "outputs": []
    },
    {
      "cell_type": "code",
      "source": [
        "git show \"caractereshash\"\n",
        "# DESCRIPCION:\n",
        "# puedo ver un commit en especifico"
      ],
      "metadata": {
        "id": "LTi3nAo-3Yu-"
      },
      "execution_count": null,
      "outputs": []
    },
    {
      "cell_type": "code",
      "source": [
        "git show HEAD~1 \n",
        "# DESCRIPCION:\n",
        "# o HEAD~2, para ver commit anteriores al mas reciente."
      ],
      "metadata": {
        "id": "DkAkyKoI3lA4"
      },
      "execution_count": null,
      "outputs": []
    },
    {
      "cell_type": "code",
      "source": [
        "git annotate \"filename\"\n",
        "# DESCRIPCION:\n",
        "# muestra quien hizo el ultimo cambio a cada línea o archivo y cuando lo hizo"
      ],
      "metadata": {
        "id": "8IUwKbLX34UQ"
      },
      "execution_count": null,
      "outputs": []
    },
    {
      "cell_type": "code",
      "source": [
        "git diff \"ID1..ID2\"\n",
        "# DESCRIPCION:\n",
        "# Sin commillas, para ver el cambio en 2 commit, debemos colocar los dos puntos \n",
        "# pudiera colocar dos ID para ver la diferencia entre ellos. \n",
        "# Recordar que el ID son los primeros dígitos del HASH"
      ],
      "metadata": {
        "id": "ccCVl_pJ4D_o"
      },
      "execution_count": null,
      "outputs": []
    },
    {
      "cell_type": "code",
      "source": [
        "git diff \"HEAD~1..HEAD~3\"\n",
        "# DESCRIPCION:\n",
        "# sin comillas, muestra la diferencia entre repositorio con 1 Commit anterior\n",
        "# y el repositorio 3 commits antes"
      ],
      "metadata": {
        "id": "G5a2LXBT4cEP"
      },
      "execution_count": null,
      "outputs": []
    },
    {
      "cell_type": "code",
      "source": [
        "git clean -n\n",
        "# DESCRIPCION:\n",
        "# me muestra una lista de archivos que estan en mi repositorios, \n",
        "# pero GIT no está actualmente dándole seguimiento, \n",
        "# este comando solo funciona con archivos a los que estan con seguimiento, \n",
        "# por definición su historial no ha sido guardado."
      ],
      "metadata": {
        "id": "hpomzapx4sSh"
      },
      "execution_count": null,
      "outputs": []
    },
    {
      "cell_type": "code",
      "source": [
        "git clean -f\n",
        "# DESCRIPCION:\n",
        "# borra los archivos para siempre"
      ],
      "metadata": {
        "id": "DlQqehGq5kIG"
      },
      "execution_count": null,
      "outputs": []
    },
    {
      "cell_type": "code",
      "source": [
        "git config --list\n",
        "# DESCRIPCION:\n",
        "# como ver como esta configurado GIT, lo puedo usar con uno de las siguientes\n",
        "# opciones --system o --global o --local. \n",
        "# local settins (por proyecto)toma precedencia sobre global settins(por usuario),\n",
        "# que a su vez toma prioridad sobre el system settings"
      ],
      "metadata": {
        "id": "zT8uYXoK5q6b"
      },
      "execution_count": null,
      "outputs": []
    },
    {
      "cell_type": "markdown",
      "source": [
        "**Comentario:**\n",
        "la mayoria de la configuración de GIT deberia de dejarla como \n",
        "esta, sin embargo, hay 2 cosas que debería de configurar en cada computadora que yo utilice y es mi NOMBRE y mi CORREO, esto es grabado en el LOG cada vez que yo haga un commit,\n",
        "y usualmente es utilizado para identificar al autor del contenido del proyecto.\n",
        "*texto en cursiva*\n"
      ],
      "metadata": {
        "id": "H1uggOMo93GP"
      }
    },
    {
      "cell_type": "code",
      "source": [
        "git config --global setting value\n",
        "# DESCRIPCION:\n",
        "# este comando puedo utilizarlo para cambiar los valores de configuración de todos mis proyectos en una computadora\n",
        "# comando para especificar la configuración que yo deseo y el valor que yo quiero colocar.\n",
        "# los parametros que idenfican mi nombre y correo son user.name y user.name\n",
        "# Ejemplo: git config -- global user.email rep.loop@datacamp.com\n"
      ],
      "metadata": {
        "id": "oKZY5oeM-_bo"
      },
      "execution_count": null,
      "outputs": []
    },
    {
      "cell_type": "code",
      "source": [
        "git reset HEAD\n",
        "# DESCRIPCION:\n",
        "# sí cometo algún error guardando un archivo en específico y resetear la acción anterior."
      ],
      "metadata": {
        "id": "twUt6ZAiAUI7"
      },
      "execution_count": null,
      "outputs": []
    },
    {
      "cell_type": "code",
      "source": [
        "git reset HEAD \"path/to/file\"\n",
        "# DESCRIPCION:\n",
        "# deshacer los cambios hechos en un archivo específico"
      ],
      "metadata": {
        "id": "EG5GiHNmDsOS"
      },
      "execution_count": null,
      "outputs": []
    },
    {
      "cell_type": "code",
      "source": [
        "git reset \"nombredirectorio\"\n",
        "# DESCRIPCION:\n",
        "# para eliminar cualquier archivo del directorio"
      ],
      "metadata": {
        "id": "mxJoq8uMD8KP"
      },
      "execution_count": null,
      "outputs": []
    },
    {
      "cell_type": "code",
      "source": [
        "git reset\n",
        "# DESCRIPCION:\n",
        "# desmontar todo"
      ],
      "metadata": {
        "id": "Wf1WSab8EFfm"
      },
      "execution_count": null,
      "outputs": []
    },
    {
      "cell_type": "code",
      "source": [
        "git checkout -- \"nombrearchivoconruta\"\n",
        "# DESCRIPCION\n",
        "# para hacer un UNDO de los cambios en archivos no preparados (unstaged) \t\t\t\n",
        "# (los -- estaN separado del nombre del archivo)    \n",
        "# (este comando debo manejarlo con cuidado con el nombre o archivo que quiero \n",
        "# recuperar una vez descarto los cambio, estos se van para siempre)\n"
      ],
      "metadata": {
        "id": "A7vYMIrlENzn"
      },
      "execution_count": null,
      "outputs": []
    },
    {
      "cell_type": "code",
      "source": [
        "git checkout -- \"path/to/file\"\n",
        "# DESCRIPCION:\n",
        "# puedo deshacer los cambios en un archivo en el que realice cambios. \n",
        "# Debo tomar en cuenta que deshacer un archivo y deshacer cambios son casos especiales"
      ],
      "metadata": {
        "id": "Qvj70h6oE6gP"
      },
      "execution_count": null,
      "outputs": []
    },
    {
      "cell_type": "code",
      "source": [
        "git checkout -- .\n",
        "# DESCRIPCION:\n",
        "# Revertira todos los archivos en el directorio actual"
      ],
      "metadata": {
        "id": "LVdsQuAZFPHP"
      },
      "execution_count": null,
      "outputs": []
    },
    {
      "cell_type": "code",
      "source": [
        "git checkout \"has\" \"filename\"\n",
        "# DESCRIPCION:\n",
        "# Sin comillas, para restaurar un versión vieja de un archivo (del HASH son los primero 6 digitos) \n",
        "# la restauración no indica que se va a borrar ningún historial del repositorio. \t\t\t  \n",
        "# realmente el archivo restaurado se guardará en otro commit, debido a que yo \t\t\t\n",
        "# podría querer deshacer más adelante loque hice"
      ],
      "metadata": {
        "id": "Jh5wGSveFXi-"
      },
      "execution_count": null,
      "outputs": []
    },
    {
      "cell_type": "code",
      "source": [
        "git checkou \"nombredelbranch\"\n",
        "# DESCRIPCION:\n",
        "# puedo utilizar este comando para posicionarme en el BRANCH que quiero, \n",
        "# se colocará un * al lado del nombre del BRANCH que me indica en el branch que estoy actualmente."
      ],
      "metadata": {
        "id": "IlSHolRBF3S2"
      },
      "execution_count": null,
      "outputs": []
    },
    {
      "cell_type": "code",
      "source": [
        "git rm \"filename\"\n",
        "# DESCRIPCION:\n",
        "# se utiliza para borrar archivos"
      ],
      "metadata": {
        "id": "4cuPWdCQGTSv"
      },
      "execution_count": null,
      "outputs": []
    },
    {
      "cell_type": "code",
      "source": [
        "git checkout -b nombredelnuevobranch\n",
        "# DESCRIPCION:\n",
        "# comando para crear un BRANCH y ponerme en el nuevo branch en un solo paso"
      ],
      "metadata": {
        "id": "NHZNfgxTGdI6"
      },
      "execution_count": null,
      "outputs": []
    },
    {
      "cell_type": "code",
      "source": [
        "git merge \"branch_origen\" \"branch_destino\"\n",
        "# DESCRIPCION:\n",
        "# sin comillas, comando para fusionar 2 branch en un solo, si estos cambios no se sobreponen el resultado es un nuevo branch"
      ],
      "metadata": {
        "id": "pJGwtotnGqje"
      },
      "execution_count": null,
      "outputs": []
    },
    {
      "cell_type": "code",
      "source": [
        "cat \"nombrearchivo o ruta\"\n",
        "# DESCRIPCION:\n",
        "# muestra el contenido actualizado"
      ],
      "metadata": {
        "id": "JKcz0BoNG0t3"
      },
      "execution_count": null,
      "outputs": []
    },
    {
      "cell_type": "code",
      "source": [
        "git branch\n",
        "# DESCRIPCION:\n",
        "# Comando para listar todos BRANCH de un repositorio. por default cada repositorio GIT \n",
        "# tiene un branch llamada master (por eso veo esa palabra en la salita de GIT). el BRANCH en el que estoy actualmente mente se mostrara con * al lado de su nombre."
      ],
      "metadata": {
        "id": "PMZKHMj9HD-q"
      },
      "execution_count": null,
      "outputs": []
    },
    {
      "cell_type": "code",
      "source": [
        "git diff \"branch-1..branch2\"  \n",
        "# DESCRIPCION:\n",
        "# o tambien git diff revision-1..revision-2\n",
        "# ambos comandoS muestran la diferencia entre los 2 BRANCH o las revisiones de un repositorio."
      ],
      "metadata": {
        "id": "gvx1mmIHHWdy"
      },
      "execution_count": null,
      "outputs": []
    },
    {
      "cell_type": "code",
      "source": [
        "git init \"nombreproyecto\"\n",
        "# DESCRIPCION:\n",
        "# para crear un nuevo REPOSITORIO, el nombredelproyecto es el nombre que yo quiero que tenga el directorio raíz del nuevo repositorio.\n",
        "# algo que debo evitar es crear un REPOSITORIO GIT dentro de otro. sí se puede hacer, pero voy a complicar más las cosas."
      ],
      "metadata": {
        "id": "yWRnS2TfHuL8"
      },
      "execution_count": null,
      "outputs": []
    },
    {
      "cell_type": "code",
      "source": [
        "git init \n",
        "# DESCRIPCION:\n",
        "# para convertir proyectos existentes en repositorios. (si estoy en el directorio raiz)"
      ],
      "metadata": {
        "id": "OC1ntY0TIEEv"
      },
      "execution_count": null,
      "outputs": []
    },
    {
      "cell_type": "code",
      "source": [
        "git init \"path/to/file\"\n",
        "# DESCRIPCION:\n",
        "# sin comillas, para convertir proyectos existentes en repositorios. (colocar la ruta y nombre del repositorio) "
      ],
      "metadata": {
        "id": "95kBidueIKSO"
      },
      "execution_count": null,
      "outputs": []
    },
    {
      "cell_type": "code",
      "source": [
        "git clone \"identificarelrepositorio\"\n",
        "# DESCRIPCION:\n",
        "# sin comillas, Clonar un repositorio existente en lugar de crear uno. \n",
        "# crea exactamente una copia en un nuevo directorio\n",
        "# cuando clonamos un repositorio, GIT usa el nombre del repositorio existente como el nombre del directorio raíz clonado. \n",
        "# por ejemplo, git clone /existing/Project con esto se crea un nuevo directorio llamado project dentro de mi directorio home."
      ],
      "metadata": {
        "id": "OdQAubnZITV-"
      },
      "execution_count": null,
      "outputs": []
    },
    {
      "cell_type": "code",
      "source": [
        "git clone \"rutaynombredelproyecto\"  \"nuevonombredelproyecto\"\n",
        "# DESCRIPCION:\n",
        "# comando para renombrar el directorio clonado"
      ],
      "metadata": {
        "id": "BHuRxvy6Jz_3"
      },
      "execution_count": null,
      "outputs": []
    },
    {
      "cell_type": "code",
      "source": [
        "git remote\n",
        "# DESCRIPCION:\n",
        "# si estoy en un repositorio y escribo este comando, puedo listar lo nombre de sus REMOTOS"
      ],
      "metadata": {
        "id": "wYJmjWjtKBcN"
      },
      "execution_count": null,
      "outputs": []
    },
    {
      "cell_type": "code",
      "source": [
        "git remote -v \n",
        "# DESCRIPCION:\n",
        "# sí quiero más información, también me despliega las URLs remotas."
      ],
      "metadata": {
        "id": "NhZb2ZJ0KHte"
      },
      "execution_count": null,
      "outputs": []
    },
    {
      "cell_type": "code",
      "source": [
        "git remote add \"nombreremoto\" URL\n",
        "# DESCRIPCION:\n",
        "# cuando clono un repositorio, GIT automáticamente crea un REMOTO llamado origin \n",
        "# que apunta al repositorio original. con este comando puedo agragar mas remotos."
      ],
      "metadata": {
        "id": "3VWlOLwSKTfW"
      },
      "execution_count": null,
      "outputs": []
    },
    {
      "cell_type": "code",
      "source": [
        "git remote rm \"nombredelremoto\"\n",
        "# DESCRIPCION:\n",
        "# Elimina el repositorio remoto"
      ],
      "metadata": {
        "id": "SAbh5dX9LOoa"
      },
      "execution_count": null,
      "outputs": []
    },
    {
      "cell_type": "code",
      "source": [
        "git pull \"nombrerepositorioremoto\" branch\n",
        "# DESCRIPCION:\n",
        "# obtengo todo en la rama del repositorio remoto y lo fusiona en el branch actual de repositorio local."
      ],
      "metadata": {
        "id": "a_HLYEifLcOB"
      },
      "execution_count": null,
      "outputs": []
    },
    {
      "cell_type": "code",
      "source": [
        "git pull \"nombre_repositorio_remoto\" \"nombre_repositorio_local\"\n",
        "# DESCRIPCION:\n",
        "# extraer del reposotiro remoto y fusionarlo en el repositorio local"
      ],
      "metadata": {
        "id": "gfZEiFsILsoJ"
      },
      "execution_count": null,
      "outputs": []
    },
    {
      "cell_type": "code",
      "source": [
        "git push \"repositorio_remoto\" \"repositorio_local\"\n",
        "# DESCRIPCION:\n",
        "#  enviar los cambios del repositorio local al remoto"
      ],
      "metadata": {
        "id": "5TRthF2BL5Xj"
      },
      "execution_count": null,
      "outputs": []
    },
    {
      "cell_type": "markdown",
      "source": [
        "COMENTARIOS\n",
        "\n",
        "*   Comandos para el editor de texto nano:\n",
        "    Ctrl-K: delete a line.\n",
        "    Ctrl-U: un-delete a line.\n",
        "    Ctrl-O: save the file ('O' stands for 'output').\n",
        "    Ctrl-X: exit the editor.\n",
        "\n",
        "*   HASH: cada commit de un repositorio tiene un identificador \n",
        "          unico llamado HASH\n",
        "\n",
        "*   qué pasa si mi push entra en conflicto en el trabajo de otra persona. Para evitar que esto suceda, Git no le permite enviar cambios a un repositorio remoto a menos que haya fusionado el contenido del repositorio remoto en su propio trabajo.\n",
        "\n",
        "*  GIT también evita que obtenga cambios de un repositorio remoto cuando hacerlo podría sobrescribir las cosas que ha hecho localmente. La solución es simple: confirme sus cambios locales o retírelos, y luego intente extraerlos nuevamente\n",
        "\n",
        "*   puedo crear un archivo o archivos temporales que no quiero que se graben, en el directorio root de mi repositorio llamado .gitignore y almacenar una lista de patrones comodín  que especifican los archivos a los que no desea que Git preste atención.\n",
        "*   Elemento de lista\n",
        "\n",
        "\n",
        "\n",
        "\n",
        "\n",
        "\n",
        "\n",
        "  \n",
        "\n"
      ],
      "metadata": {
        "id": "kF_-xYM4MImy"
      }
    }
  ]
}