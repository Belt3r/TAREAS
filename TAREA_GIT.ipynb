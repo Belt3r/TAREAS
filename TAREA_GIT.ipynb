{
  "nbformat": 4,
  "nbformat_minor": 0,
  "metadata": {
    "colab": {
      "name": "TAREA_GIT.ipynb",
      "provenance": [],
      "collapsed_sections": [],
      "authorship_tag": "ABX9TyN5w4HvGyD9GEHIAQNQcYNt",
      "include_colab_link": true
    },
    "kernelspec": {
      "name": "python3",
      "display_name": "Python 3"
    },
    "language_info": {
      "name": "python"
    }
  },
  "cells": [
    {
      "cell_type": "markdown",
      "metadata": {
        "id": "view-in-github",
        "colab_type": "text"
      },
      "source": [
        "<a href=\"https://colab.research.google.com/github/Belt3r/TAREAS/blob/main/TAREA_GIT.ipynb\" target=\"_parent\"><img src=\"https://colab.research.google.com/assets/colab-badge.svg\" alt=\"Open In Colab\"/></a>"
      ]
    },
    {
      "cell_type": "markdown",
      "source": [
        "## A CONTINUACION SE PRESENTAN VARIOS COMANDOS CON SU DESCRIPCION PARA INICAR A UTILIZAR GIT."
      ],
      "metadata": {
        "id": "GcU-Zz1SxkG3"
      }
    },
    {
      "cell_type": "code",
      "source": [
        "git diff -r HEAD\n",
        "# DESCRIPCION: \n",
        "# -r compara un revision particular y HEAD ve el commit mas reciente"
      ],
      "metadata": {
        "id": "Sgagv5e_xRj-"
      },
      "execution_count": null,
      "outputs": []
    },
    {
      "cell_type": "code",
      "source": [
        "git add \"filename\"\n",
        "# DESCRIPCION: \n",
        "# para agregar un archivo al staging area"
      ],
      "metadata": {
        "id": "WpCoMqJzzUHw"
      },
      "execution_count": null,
      "outputs": []
    },
    {
      "cell_type": "code",
      "source": [
        "nano \"filename\"\n",
        "# DESCRIPCION:\n",
        "# abre el editor de texto con el nombre del documento o lo crea si no existe"
      ],
      "metadata": {
        "id": "6WAU4Vrozesm"
      },
      "execution_count": null,
      "outputs": []
    },
    {
      "cell_type": "code",
      "source": [
        "git status\n",
        "# DESCRIPCION:\n",
        "# aparte de ver el estatus puedo chequear que archivos no estan siendo rastreados, \n",
        "# ya que git NO rastrea archivos por default. aca ya utilizo el comando git add para agregarlo \tal area de ensayo"
      ],
      "metadata": {
        "id": "Z3_SgxYi0JIw"
      },
      "execution_count": null,
      "outputs": []
    }
  ]
}