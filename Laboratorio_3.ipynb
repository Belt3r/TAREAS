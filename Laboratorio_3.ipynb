{
 "cells": [
  {
   "cell_type": "code",
   "execution_count": 1,
   "id": "387d3462",
   "metadata": {},
   "outputs": [
    {
     "name": "stdout",
     "output_type": "stream",
     "text": [
      "Introduce un numero entero para convertir a binario: 25\n",
      "11001\n"
     ]
    }
   ],
   "source": [
    "# Programa # 1\n",
    "while True:\n",
    "    def decimalbinario(decimal):\n",
    "        binario = ''\n",
    "        while decimal // 2 !=0:\n",
    "            binario = str(decimal%2) + binario\n",
    "            decimal = decimal//2\n",
    "        return str(decimal) + binario\n",
    "    try:\n",
    "\n",
    "        numero = int(input('Introduce un numero entero para convertir a binario: '))\n",
    "        print(decimalbinario(numero))\n",
    "        break\n",
    "    except ValueError:\n",
    "        print('Lo sentimos, por favor ingresar un numero valido, intenta de nuevo')\n",
    "\n",
    "        "
   ]
  },
  {
   "cell_type": "code",
   "execution_count": 2,
   "id": "b49625cb",
   "metadata": {},
   "outputs": [
    {
     "name": "stdout",
     "output_type": "stream",
     "text": [
      "Ingrese un Numero Entero: 4\n",
      "False\n"
     ]
    }
   ],
   "source": [
    "# Programa # 2\n",
    "\n",
    "def num_primo(num):\n",
    "    if num == 1:\n",
    "        return False\n",
    "    elif num == 2:\n",
    "        return True\n",
    "    else:\n",
    "        for i in range(2, num):\n",
    "            if num %i == 0:\n",
    "                return False\n",
    "        return True\n",
    "\n",
    "    \n",
    "numero = int(input('Ingrese un Numero Entero: '))\n",
    "resultado = num_primo(numero)\n",
    "print(resultado)\n",
    "\n",
    "\n"
   ]
  },
  {
   "cell_type": "code",
   "execution_count": 8,
   "id": "7fa54073",
   "metadata": {},
   "outputs": [
    {
     "name": "stdout",
     "output_type": "stream",
     "text": [
      "Ingrese lista de valores separados por una coma):  \n",
      "4,5,6,9\n",
      "La desviacion estandar de la lista es: 1.8708286933869707\n"
     ]
    }
   ],
   "source": [
    "# PROBLEMA # 3\n",
    "import math \n",
    "\n",
    "try:\n",
    "  print('Ingrese lista de valores separados por una coma):  ')\n",
    "  strValores = input() \n",
    "\n",
    "  listaStrValores = strValores.split(',')\n",
    "  listaValores = [float(valor) for valor in listaStrValores]\n",
    "\n",
    "  if len(listaValores) == 0:\n",
    "    print('La lista esta vacia.')\n",
    "  else:\n",
    "    promedio = sum(listaValores) / len(listaValores)\n",
    "    varianza = sum((valor-promedio)**2 for valor in listaValores) / len(listaValores)\n",
    "    desviacionEstandar =  math.sqrt(varianza)\n",
    "    print(f\"La desviacion estandar de la lista es: {str(desviacionEstandar)}\")\n",
    "\n",
    "except ValueError as err:\n",
    "  print('Datos no son validos: ',str(err.args[0]))\n",
    "except Exception as ex:\n",
    "  print('se encontro un problema: ', ex)  "
   ]
  },
  {
   "cell_type": "code",
   "execution_count": 3,
   "id": "77a0bcba",
   "metadata": {},
   "outputs": [
    {
     "name": "stdout",
     "output_type": "stream",
     "text": [
      "datos sin ordenar: [8, 50, 23, 54, 5, 2, 1]\n",
      "datos ordenados: [1, 2, 5, 8, 23, 50, 54]\n"
     ]
    }
   ],
   "source": [
    "# Problema # 4\n",
    "\n",
    "# El siguiente procedimiento acepta como parametros una lista de numeros\n",
    "# enteros y regresa una lista con los valores ordenados \n",
    "def ordenar_burbuja(lista):\n",
    "  # copiamos el parametro de entrada para no modificarlo\n",
    "  lista_ordenada = lista[:] \n",
    "  for i in range(1,len(lista_ordenada)):\n",
    "      for j in range(0,len(lista_ordenada)-i):\n",
    "          if(lista_ordenada[j+1] < lista_ordenada[j]):\n",
    "              aux=lista_ordenada[j]\n",
    "              lista_ordenada[j]=lista_ordenada[j+1]\n",
    "              lista_ordenada[j+1]=aux\n",
    "  return lista_ordenada\n",
    "\n",
    "# funcion principal donde comienza la ejecucion del programa\n",
    "def main():\n",
    "  datos = [8,50,23,54,5,2,1]  # lista de datos a ordenar\n",
    "  print(f'datos sin ordenar: {datos}')\n",
    "  print(f'datos ordenados: {ordenar_burbuja(datos)}')\n",
    "\n",
    "# indicamos que comienze el flujo de ejecucion del programa\n",
    "# por medio de la funcion main\n",
    "if __name__ == \"__main__\":\n",
    "    main()  "
   ]
  },
  {
   "cell_type": "code",
   "execution_count": 4,
   "id": "8ea64bcf",
   "metadata": {},
   "outputs": [
    {
     "name": "stdout",
     "output_type": "stream",
     "text": [
      "tupla a converitr: (10, 20, 40, 5, 70)\n",
      "cadena de caracteres: 102040570\n"
     ]
    }
   ],
   "source": [
    "# Problema # 5\n",
    "\n",
    "# La siguiente funcion recibe como parametro una tupla de\n",
    "# valores y regresa una cadena de caracteres compuesta por\n",
    "# la concatenacion de los elementos de la lista\n",
    "def convertir_tupla(tupla):\n",
    "  cadena = ''\n",
    "  for valor in tupla:\n",
    "    cadena += str(valor)\n",
    "  return cadena\n",
    "\n",
    "try:\n",
    "  mi_tupla = (10, 20, 40, 5, 70) # tupla que a convertir en cadena de caracteres\n",
    "  print(f'tupla a converitr: {mi_tupla}')\n",
    "  cadena = convertir_tupla(mi_tupla)\n",
    "  print(f'cadena de caracteres: {cadena}')\n",
    "\n",
    "except ValueError as error_datos:\n",
    "  print('Los datos no son validos.')\n",
    "except Exception as error_global:\n",
    "  print('Error: ', error_global)  "
   ]
  },
  {
   "cell_type": "code",
   "execution_count": 5,
   "id": "1a3b1182",
   "metadata": {},
   "outputs": [
    {
     "name": "stdout",
     "output_type": "stream",
     "text": [
      "listado a procesar: [(), (), ('X',), ('a', 'b'), ('a', 'b', 'c'), 'd']\n",
      "listado sin tuplas vacias: [('X',), ('a', 'b'), ('a', 'b', 'c'), 'd']\n"
     ]
    }
   ],
   "source": [
    "# Problema # 6\n",
    "\n",
    "# La siguiente funcion recibe como parametro una lista \n",
    "# de tuplas y regresa una lista de tuplas sin las tuplas vacias\n",
    "def quitar_vacios(listado):\n",
    "  lista_nueva = []\n",
    "  \n",
    "  for tupla in lista_tuplas:\n",
    "    if tupla:\n",
    "      lista_nueva.append(tupla)  \n",
    "  \n",
    "  return lista_nueva\n",
    "    \n",
    "try:\n",
    "  # listado de tuplas a procesar\n",
    "  lista_tuplas =  [(), (), ('X',), ('a', 'b'), ('a', 'b', 'c'), ('d')]\n",
    "  print(f\"listado a procesar: {str(lista_tuplas)}\") \n",
    "\n",
    "  lista_sin_vacios = quitar_vacios(lista_tuplas)\n",
    "\n",
    "  print(f\"listado sin tuplas vacias: {str(lista_sin_vacios)}\")\n",
    "  \n",
    "except ValueError as error_datos:\n",
    "  print('Los datos no son validos.')\n",
    "except Exception as error_global:\n",
    "  print('Error: ', error_global)   "
   ]
  },
  {
   "cell_type": "code",
   "execution_count": 6,
   "id": "03ae0adc",
   "metadata": {},
   "outputs": [
    {
     "name": "stdout",
     "output_type": "stream",
     "text": [
      "tuplas: ((10, 10, 10, 12), (30, 45, 56, 45), (81, 80, 39, 32))\n",
      "promedios:  (10.5, 44.0, 58.0)\n"
     ]
    }
   ],
   "source": [
    "# Problema # 7\n",
    "\n",
    "# La siguiente funcion recibe como parametro una tupla de tuplas \n",
    "# y regresa una tupla con el promedio de cada una de las tuplas de entrada\n",
    "def promedio_tuplas(listado):\n",
    "  lista_promedios = []\n",
    "  for t in listado:\n",
    "    promedio_tupla = sum(t)/len(t)\n",
    "    lista_promedios.append(promedio_tupla)\n",
    "  return tuple(lista_promedios)\n",
    "\n",
    "try:\n",
    "  \n",
    "  # listado de tuplas a procesar\n",
    "  datos = ((10, 10, 10, 12), (30, 45, 56, 45), (81, 80, 39, 32))\n",
    "  print(\"tuplas: \" + str(datos)) \n",
    "  promedio = promedio_tuplas(datos)\n",
    "  print(\"promedios: \", str(promedio))\n",
    "\n",
    "except ValueError as error_datos:\n",
    "  print('Los datos no son validos.')\n",
    "except Exception as error_global:\n",
    "  print('Error: ', error_global)    "
   ]
  }
 ],
 "metadata": {
  "kernelspec": {
   "display_name": "Python 3 (ipykernel)",
   "language": "python",
   "name": "python3"
  },
  "language_info": {
   "codemirror_mode": {
    "name": "ipython",
    "version": 3
   },
   "file_extension": ".py",
   "mimetype": "text/x-python",
   "name": "python",
   "nbconvert_exporter": "python",
   "pygments_lexer": "ipython3",
   "version": "3.9.7"
  }
 },
 "nbformat": 4,
 "nbformat_minor": 5
}
