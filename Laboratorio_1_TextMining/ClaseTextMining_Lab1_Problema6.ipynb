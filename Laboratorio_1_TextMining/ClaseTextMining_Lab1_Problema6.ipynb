{
 "cells": [
  {
   "cell_type": "markdown",
   "id": "0d25dd41",
   "metadata": {},
   "source": [
    "## PROBLEMA 6"
   ]
  },
  {
   "cell_type": "markdown",
   "id": "8a6d16b5",
   "metadata": {},
   "source": [
    "### Espacio de color HSV y como se mapean los colores"
   ]
  },
  {
   "cell_type": "markdown",
   "id": "70ecee45",
   "metadata": {},
   "source": [
    "#### El espacio HSV (o HSB) define los colores en función de tres factores."
   ]
  },
  {
   "cell_type": "markdown",
   "id": "56c4d6f9",
   "metadata": {},
   "source": [
    ". Matiz es lo que común -y erróneamente- llamamos color: la longitud de onda dominante. \n",
    "\n",
    ". Saturación mide la pureza de un color, es decir la ausencia de otros colores: un color con el 100% de saturación se conseguirá tan solo con su matiz monocromático o espectral.\n",
    "\n",
    ". Valor o Brillo hace referencia a la intensidad de la luz, es decir, la cantidad de luz que hay en ese color, desde un 0% (negro) al 100%."
   ]
  },
  {
   "cell_type": "markdown",
   "id": "92be4a4a",
   "metadata": {},
   "source": [
    "#### Uso del modelo de color HSV"
   ]
  },
  {
   "cell_type": "markdown",
   "id": "4e6de3d6",
   "metadata": {},
   "source": [
    "Este modelo fue creado para aportar tanto información sobre el color en sí como sobre la cantidad y brillo del mismo, \n",
    "representando todo a la vez en un mismo diagrama cromático. HSB presenta los colores \n",
    "y sus diferentes grados de brillo y saturación en un único diagrama -cónico o circular-.\n",
    "\n",
    "Es bastante usado en las aplicaciones gráficas para que el usuario escoja colores y al mismo tiempo grados de saturación\n",
    "y brillo del mismo."
   ]
  }
 ],
 "metadata": {
  "kernelspec": {
   "display_name": "Python 3 (ipykernel)",
   "language": "python",
   "name": "python3"
  },
  "language_info": {
   "codemirror_mode": {
    "name": "ipython",
    "version": 3
   },
   "file_extension": ".py",
   "mimetype": "text/x-python",
   "name": "python",
   "nbconvert_exporter": "python",
   "pygments_lexer": "ipython3",
   "version": "3.10.4"
  }
 },
 "nbformat": 4,
 "nbformat_minor": 5
}
